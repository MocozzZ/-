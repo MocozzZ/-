{
 "cells": [
  {
   "cell_type": "code",
   "execution_count": 215,
   "metadata": {},
   "outputs": [],
   "source": [
    "## 本文根据司守奎的<数学建模算法与应用>整理写下的学习笔记.\n",
    "## 代码基于anaconda的Python3.8.8环境进行编程\n",
    "\n",
    "## -*- coding: utf-8 -*-\n",
    "## Created on Wed Apr  6 21:57:49 2022\n",
    "## @author: Moco\n",
    "\n",
    "# 第二章 整数规划"
   ]
  },
  {
   "cell_type": "code",
   "execution_count": 216,
   "metadata": {},
   "outputs": [],
   "source": [
    "from scipy import optimize\n",
    "import pulp as pp\n",
    "import numpy as np\n",
    "import matplotlib.pyplot as plt"
   ]
  },
  {
   "cell_type": "code",
   "execution_count": 217,
   "metadata": {},
   "outputs": [],
   "source": [
    "# 例1\n",
    "# 某连锁超市为了扩大规模,新租用了五个门店,经过装修后再营业.现有四家装饰公司分别对五个门店装修费用进行报价,具体数据下表所示.\n",
    "# 为保证装修质量,每个装修公司最多承担两个门店的装修任务.为节省装修费用,该企业应如何分配装修任务.\n",
    "#       1       2       3       4       5\n",
    "#   A   15      13.8    12.5    11      14.3\n",
    "#   B   14.5    14      13.2    10.5    15\n",
    "#   C   13.8    13      12.8    11.3    14.6\n",
    "#   D   14.7    13.6    13      11.6    14\n",
    "\n",
    "\n",
    "# 分析\n",
    "# 这是非标准的'指派问题',可以引入0-1变量来表示某一装修公司是否承担某一个门店的装修任务"
   ]
  },
  {
   "cell_type": "code",
   "execution_count": 218,
   "metadata": {},
   "outputs": [
    {
     "data": {
      "text/plain": [
       "{(1, 1): 15.0,\n",
       " (1, 2): 13.8,\n",
       " (1, 3): 12.5,\n",
       " (1, 4): 11.0,\n",
       " (1, 5): 14.3,\n",
       " (2, 1): 14.5,\n",
       " (2, 2): 14.0,\n",
       " (2, 3): 13.2,\n",
       " (2, 4): 10.5,\n",
       " (2, 5): 15.0,\n",
       " (3, 1): 13.8,\n",
       " (3, 2): 13.0,\n",
       " (3, 3): 12.8,\n",
       " (3, 4): 11.3,\n",
       " (3, 5): 14.6,\n",
       " (4, 1): 14.7,\n",
       " (4, 2): 13.6,\n",
       " (4, 3): 13.0,\n",
       " (4, 4): 11.6,\n",
       " (4, 5): 14.0}"
      ]
     },
     "execution_count": 218,
     "metadata": {},
     "output_type": "execute_result"
    }
   ],
   "source": [
    "ac=np.loadtxt(\"data.txt\",delimiter=',')\n",
    "[row,col]=ac.shape\n",
    "set_i = range(1,row+1)\n",
    "set_j = range(1,col+1)\n",
    "c = {(i,j): ac[i-1,j-1] for i in set_i for j in set_j}\n",
    "c"
   ]
  },
  {
   "cell_type": "code",
   "execution_count": 219,
   "metadata": {},
   "outputs": [],
   "source": [
    "x_vars = {(i,j):pp.LpVariable(cat=pp.LpBinary,name=\"x_{0}_{1}\".format(i,j)) for i in set_i for j in set_j}\n",
    "opt_model = pp.LpProblem(name=\"MIP_Model\")"
   ]
  },
  {
   "cell_type": "code",
   "execution_count": 220,
   "metadata": {},
   "outputs": [],
   "source": [
    "for j in set_j:\n",
    "    opt_model.addConstraint(\n",
    "    pp.LpConstraint(pp.lpSum(x_vars[i,j] for i in set_i),\n",
    "        sense = pp.LpConstraintEQ,\n",
    "        rhs = 1,\n",
    "        name = 'constraintJ{0}'.format(j)))"
   ]
  },
  {
   "cell_type": "code",
   "execution_count": 221,
   "metadata": {},
   "outputs": [],
   "source": [
    "for i in set_i:\n",
    "    opt_model.addConstraint(\n",
    "    pp.LpConstraint(pp.lpSum(x_vars[i,j] for j in set_j),\n",
    "        sense = pp.LpConstraintLE,\n",
    "        rhs = 2,\n",
    "        name = 'constraintI{0}'.format(i)))"
   ]
  },
  {
   "cell_type": "code",
   "execution_count": 222,
   "metadata": {},
   "outputs": [
    {
     "data": {
      "text/plain": [
       "<bound method LpProblem.solve of MIP_Model:\n",
       "MINIMIZE\n",
       "15.0*x_1_1 + 13.8*x_1_2 + 12.5*x_1_3 + 11.0*x_1_4 + 14.3*x_1_5 + 14.5*x_2_1 + 14.0*x_2_2 + 13.2*x_2_3 + 10.5*x_2_4 + 15.0*x_2_5 + 13.8*x_3_1 + 13.0*x_3_2 + 12.8*x_3_3 + 11.3*x_3_4 + 14.6*x_3_5 + 14.7*x_4_1 + 13.6*x_4_2 + 13.0*x_4_3 + 11.6*x_4_4 + 14.0*x_4_5 + 0.0\n",
       "SUBJECT TO\n",
       "constraintJ1: x_1_1 + x_2_1 + x_3_1 + x_4_1 = 1\n",
       "\n",
       "constraintJ2: x_1_2 + x_2_2 + x_3_2 + x_4_2 = 1\n",
       "\n",
       "constraintJ3: x_1_3 + x_2_3 + x_3_3 + x_4_3 = 1\n",
       "\n",
       "constraintJ4: x_1_4 + x_2_4 + x_3_4 + x_4_4 = 1\n",
       "\n",
       "constraintJ5: x_1_5 + x_2_5 + x_3_5 + x_4_5 = 1\n",
       "\n",
       "constraintI1: x_1_1 + x_1_2 + x_1_3 + x_1_4 + x_1_5 <= 2\n",
       "\n",
       "constraintI2: x_2_1 + x_2_2 + x_2_3 + x_2_4 + x_2_5 <= 2\n",
       "\n",
       "constraintI3: x_3_1 + x_3_2 + x_3_3 + x_3_4 + x_3_5 <= 2\n",
       "\n",
       "constraintI4: x_4_1 + x_4_2 + x_4_3 + x_4_4 + x_4_5 <= 2\n",
       "\n",
       "VARIABLES\n",
       "0 <= x_1_1 <= 1 Integer\n",
       "0 <= x_1_2 <= 1 Integer\n",
       "0 <= x_1_3 <= 1 Integer\n",
       "0 <= x_1_4 <= 1 Integer\n",
       "0 <= x_1_5 <= 1 Integer\n",
       "0 <= x_2_1 <= 1 Integer\n",
       "0 <= x_2_2 <= 1 Integer\n",
       "0 <= x_2_3 <= 1 Integer\n",
       "0 <= x_2_4 <= 1 Integer\n",
       "0 <= x_2_5 <= 1 Integer\n",
       "0 <= x_3_1 <= 1 Integer\n",
       "0 <= x_3_2 <= 1 Integer\n",
       "0 <= x_3_3 <= 1 Integer\n",
       "0 <= x_3_4 <= 1 Integer\n",
       "0 <= x_3_5 <= 1 Integer\n",
       "0 <= x_4_1 <= 1 Integer\n",
       "0 <= x_4_2 <= 1 Integer\n",
       "0 <= x_4_3 <= 1 Integer\n",
       "0 <= x_4_4 <= 1 Integer\n",
       "0 <= x_4_5 <= 1 Integer\n",
       ">"
      ]
     },
     "execution_count": 222,
     "metadata": {},
     "output_type": "execute_result"
    }
   ],
   "source": [
    "objective = pp.lpSum(x_vars[i,j]*c[i,j] for i in set_i for j in set_j)\n",
    "opt_model.sense = pp.LpMinimize\n",
    "opt_model.setObjective(objective)\n",
    "opt_model.solve"
   ]
  },
  {
   "cell_type": "code",
   "execution_count": 223,
   "metadata": {},
   "outputs": [
    {
     "name": "stdout",
     "output_type": "stream",
     "text": [
      "Status: Not Solved\n",
      "x_1_1 = None\n",
      "x_1_2 = None\n",
      "x_1_3 = None\n",
      "x_1_4 = None\n",
      "x_1_5 = None\n",
      "x_2_1 = None\n",
      "x_2_2 = None\n",
      "x_2_3 = None\n",
      "x_2_4 = None\n",
      "x_2_5 = None\n",
      "x_3_1 = None\n",
      "x_3_2 = None\n",
      "x_3_3 = None\n",
      "x_3_4 = None\n",
      "x_3_5 = None\n",
      "x_4_1 = None\n",
      "x_4_2 = None\n",
      "x_4_3 = None\n",
      "x_4_4 = None\n",
      "x_4_5 = None\n",
      "F1(x) = None\n"
     ]
    }
   ],
   "source": [
    "# 结果存在一些问题,希望有精通Python的uu能够指出问题所在\n",
    "print(\"Status:\", pp.LpStatus[opt_model.status])\n",
    "for v in opt_model.variables():\n",
    "    print(v.name, \"=\", v.varValue)  # 输出每个变量的最优值\n",
    "print(\"F1(x) =\", pp.value(opt_model.objective))"
   ]
  }
 ],
 "metadata": {
  "interpreter": {
   "hash": "b3ba2566441a7c06988d0923437866b63cedc61552a5af99d1f4fb67d367b25f"
  },
  "kernelspec": {
   "display_name": "Python 3.8.8 ('base')",
   "language": "python",
   "name": "python3"
  },
  "language_info": {
   "codemirror_mode": {
    "name": "ipython",
    "version": 3
   },
   "file_extension": ".py",
   "mimetype": "text/x-python",
   "name": "python",
   "nbconvert_exporter": "python",
   "pygments_lexer": "ipython3",
   "version": "3.8.8"
  },
  "orig_nbformat": 4
 },
 "nbformat": 4,
 "nbformat_minor": 2
}
