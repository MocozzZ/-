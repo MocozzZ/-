{
 "cells": [
  {
   "cell_type": "code",
   "execution_count": 36,
   "metadata": {},
   "outputs": [],
   "source": [
    "## 本文根据司守奎的<数学建模算法与应用>整理写下的学习笔记.鉴于文章中使用的基本是matlab软件,而本人想提高一下使用Python进行编程的能力,所以使用Python进行编程\n",
    "## 代码基于anaconda的Python3.8.8环境进行编程\n",
    "## 编码使用 --UTF-8--\n",
    "\n",
    "# 第一章 线性规划"
   ]
  },
  {
   "cell_type": "code",
   "execution_count": 37,
   "metadata": {},
   "outputs": [],
   "source": [
    "# 例1\n",
    "# 某机床生产甲,乙两种机床,每台机床销售后的利润分别为4千元和3千元.\n",
    "# 生产甲机床需用A,B及其加工,加工时间分别为每台2h和每台1h;生产乙机床需要A,B,C三台机器加工,加工时间均为每台1h\n",
    "# 若每天可用于加工的机器时数分别为A机器10h,B机器8h和C机器7h,问该厂应生产甲,乙机床各多少台才能使总利润最大\n",
    "\n",
    "# 分析\n",
    "# 题目中目标是使得总利润z=4*x1+3*x2取得最大值\n",
    "# 可写出约束条件\n",
    "# 2*x1+x2<=10\n",
    "# x1+x2<=8\n",
    "# x2<=7\n",
    "# x1,x2为正整数\n",
    "from scipy import optimize  # 使用scipy库求解\n",
    "import pulp as pp           # 使用pulp库求解\n",
    "import numpy as np\n",
    "import matplotlib.pyplot as plt # 使用matplotlib插件绘图"
   ]
  },
  {
   "cell_type": "code",
   "execution_count": 38,
   "metadata": {},
   "outputs": [
    {
     "data": {
      "text/plain": [
       "     con: array([0.])\n",
       "     fun: 25.99999999984096\n",
       " message: 'Optimization terminated successfully.'\n",
       "     nit: 5\n",
       "   slack: array([8.03410671e-11, 3.93507449e-11, 1.00000000e+00])\n",
       "  status: 0\n",
       " success: True\n",
       "       x: array([2., 6.])"
      ]
     },
     "execution_count": 38,
     "metadata": {},
     "output_type": "execute_result"
    }
   ],
   "source": [
    "c = np.array([4,3])#不等式约束\n",
    "A = np.array([[2,1],[1,1],[0,1]])\n",
    "B = np.array([10,8,7])\n",
    "Aeq = np.array([[0,0]]) #等式约束\n",
    "Beq = np.array([0])\n",
    "x1=(0,None)#参数范围约束\n",
    "x2=(0,None)\n",
    "# 注:线性规划中不等式关系参数需要全部转为'<='形式,即为标准型\n",
    "# 结果\n",
    "res = optimize.linprog(-c,A,B,Aeq,Beq,bounds=(x1,x2))\n",
    "res.fun*=-1\n",
    "res\n"
   ]
  },
  {
   "cell_type": "code",
   "execution_count": 39,
   "metadata": {},
   "outputs": [
    {
     "name": "stdout",
     "output_type": "stream",
     "text": [
      "ProbLP1\n",
      "Status: Optimal\n",
      "x1 = 2.0\n",
      "x2 = 6.0\n",
      "F1(x) = 26.0\n"
     ]
    }
   ],
   "source": [
    "# 使用pulp包进行求解\n",
    "ProbLP1 = pp.LpProblem('ProbLP1',sense=pp.LpMaximize)\n",
    "x1 = pp.LpVariable('x1',lowBound=0,cat='integer')\n",
    "x2 = pp.LpVariable('x2',lowBound=0,upBound=7,cat='integer')\n",
    "#‘Continuous’ 表示连续变量（默认值）、’ Integer ’ 表示离散变量（用于整数规划问题）、’ Binary ’ 表示0/1变量（用于0/1规划问题）\n",
    "ProbLP1 += (4*x1+3*x2) #目标函数\n",
    "ProbLP1 += (2*x1+x2<=10)    #设置约束条件\n",
    "ProbLP1 += (x1+x2<=8)\n",
    "ProbLP1.solve()\n",
    "print(ProbLP1.name)  # 输出求解状态\n",
    "print(\"Status:\", pp.LpStatus[ProbLP1.status])  # 输出求解状态\n",
    "for v in ProbLP1.variables():\n",
    "    print(v.name, \"=\", v.varValue)  # 输出每个变量的最优值\n",
    "print(\"F1(x) =\", pp.value(ProbLP1.objective))  # 输出最优解的目标函数值\n",
    "\n",
    "# 总结,不难看出,使用pulp包相比于scipy包来说,速度更快,并且更方便使用易上手.\n",
    "# 在matlab中,这分为基于求解器求解和基于问题求解,意思差不多"
   ]
  },
  {
   "cell_type": "code",
   "execution_count": 40,
   "metadata": {},
   "outputs": [
    {
     "name": "stdout",
     "output_type": "stream",
     "text": [
      "ProbLP2\n",
      "Status: Optimal\n",
      "x1 = -2.0\n",
      "x2 = 0.0\n",
      "x3 = 0.0\n",
      "x4 = 0.0\n",
      "F2(x) = 2.0\n"
     ]
    }
   ],
   "source": [
    "## 本程序是基于绝对值问题的求解\n",
    "ProbLP2 = pp.LpProblem('ProbLP2',sense=pp.LpMinimize)\n",
    "u1 = pp.LpVariable('u1',lowBound=0,cat='continuous')\n",
    "u2 = pp.LpVariable('u2',lowBound=0,cat='continuous')\n",
    "u3 = pp.LpVariable('u3',lowBound=0,cat='continuous')\n",
    "u4 = pp.LpVariable('u4',lowBound=0,cat='continuous')\n",
    "v1 = pp.LpVariable('v1',lowBound=0,cat='continuous')\n",
    "v2 = pp.LpVariable('v2',lowBound=0,cat='continuous')\n",
    "v3 = pp.LpVariable('v3',lowBound=0,cat='continuous')\n",
    "v4 = pp.LpVariable('v4',lowBound=0,cat='continuous')\n",
    "\n",
    "ProbLP2 += ((u1+v1)+2*(u2+v2)+3*(u3+v3)+4*(u4+v4)) #目标函数\n",
    "ProbLP2 += ((u1-v1)-(u2-v2)-(u3-v3)-(u4-v4)<=-2)    #设置约束条件\n",
    "ProbLP2 += ((u1-v1)-(u2-v2)+(u3-v3)-3*(u4-v4)<=-1)\n",
    "ProbLP2 += ((u1-v1)-(u2-v2)-2*(u3-v3)+3*(u4-v4)<=-0.5)\n",
    "ProbLP2.solve()\n",
    "\n",
    "print(ProbLP2.name)  # 输出求解状态\n",
    "print(\"Status:\", pp.LpStatus[ProbLP2.status])  # 输出求解状态\n",
    "print(\"x1 =\", u1.varValue-v1.varValue)  # 输出每个变量的最优值\n",
    "print(\"x2 =\", u2.varValue-v2.varValue)  # 输出每个变量的最优值\n",
    "print(\"x3 =\", u3.varValue-v3.varValue)  # 输出每个变量的最优值\n",
    "print(\"x4 =\", u4.varValue-v4.varValue)  # 输出每个变量的最优值\n",
    "print(\"F2(x) =\", pp.value(ProbLP2.objective))  # 输出最优解的目标函数值"
   ]
  },
  {
   "cell_type": "code",
   "execution_count": 41,
   "metadata": {},
   "outputs": [
    {
     "data": {
      "text/plain": [
       "array([ 499.99999995, 1010.55221445, 1521.1044289 , 2019.07639777,\n",
       "       2112.43381146, 2190.19607786, 2255.68627447, 2321.17645993,\n",
       "       2386.66666666, 2452.15686264, 2517.64705881, 2583.1372549 ,\n",
       "       2648.6274509 , 2673.26732641, 2673.26731259, 2673.26732669,\n",
       "       2673.26732665, 2673.26732659, 2673.2672357 , 2673.26732671,\n",
       "       2673.26732671, 2673.26732556, 2673.26732281, 2673.26732673,\n",
       "       2673.26732673])"
      ]
     },
     "execution_count": 41,
     "metadata": {},
     "output_type": "execute_result"
    }
   ],
   "source": [
    "## 风险与收益投资问题\n",
    "M=10000\n",
    "c = np.array([0.05,0.27,0.19,0.185,0.185])#不等式约束\n",
    "A = np.array([[0,0.025,0,0,0],[0,0,0.015,0,0],[0,0,0,0.055,0],[0,0,0,0,0.026]])\n",
    "\n",
    "Aeq = np.array([[1,1.01,1.02,1.045,1.065]]) #等式约束\n",
    "Beq = np.array([M])\n",
    "x1=(0,None)#参数范围约束\n",
    "Fin=np.array([])\n",
    "for a in np.arange(0,0.05,0.002):\n",
    "    B = np.array([a*M,a*M,a*M,a*M])\n",
    "# 结果\n",
    "    res = optimize.linprog(-c,A,B,Aeq,Beq,bounds=(x1,x1,x1,x1,x1))\n",
    "    Fin=np.append(Fin,-res.fun)\n",
    "Fin"
   ]
  },
  {
   "cell_type": "code",
   "execution_count": 42,
   "metadata": {},
   "outputs": [
    {
     "data": {
      "image/png": "[encoded data removed]",
      "text/plain": [
       "<Figure size 432x288 with 1 Axes>"
      ]
     },
     "metadata": {
      "needs_background": "light"
     },
     "output_type": "display_data"
    }
   ],
   "source": [
    "fig = plt.figure(1)\n",
    "ax1 = plt.subplot(1,1,1)\n",
    "x = np.arange(0,0.05,0.002)\n",
    "y=Fin\n",
    "Line=plt.plot(x,y)\n",
    "plt.setp(Line,color='k')\n",
    "plt.show()"
   ]
  }
 ],
 "metadata": {
  "interpreter": {
   "hash": "b3ba2566441a7c06988d0923437866b63cedc61552a5af99d1f4fb67d367b25f"
  },
  "kernelspec": {
   "display_name": "Python 3.8.8 ('base')",
   "language": "python",
   "name": "python3"
  },
  "language_info": {
   "codemirror_mode": {
    "name": "ipython",
    "version": 3
   },
   "file_extension": ".py",
   "mimetype": "text/x-python",
   "name": "python",
   "nbconvert_exporter": "python",
   "pygments_lexer": "ipython3",
   "version": "3.8.8"
  },
  "orig_nbformat": 4
 },
 "nbformat": 4,
 "nbformat_minor": 2
}
